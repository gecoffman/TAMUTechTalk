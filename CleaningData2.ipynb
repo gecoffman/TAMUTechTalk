{
 "cells": [
  {
   "cell_type": "markdown",
   "metadata": {},
   "source": [
    "Now let's take a look at some Equities data, we'll go ahead and import some libs up front this time, grab the Amazon data into amazon_df and inspect the dtypes again"
   ]
  },
  {
   "cell_type": "code",
   "execution_count": 1,
   "metadata": {},
   "outputs": [
    {
     "name": "stdout",
     "output_type": "stream",
     "text": [
      "         Date      Date.1     Open     High      Low  Adj. Close   Volume\n",
      "0  2018-10-05  2018-10-05  1917.99  1929.08  1862.83     1889.65  6822327\n",
      "1  2018-10-04  2018-10-04     1949     1956  1896.57     1909.42  7256973\n",
      "2  2018-10-03  2018-10-03   1981.7   1989.7  1949.81     1952.76  5253131\n",
      "3  2018-10-02  2018-10-02  1999.99  2013.39  1965.77     1971.31  5400749\n",
      "4  2018-10-01  2018-10-01  2021.99  2033.19   2003.6     2004.36  3468285\n",
      "Date           object\n",
      "Date.1         object\n",
      "Open           object\n",
      "High           object\n",
      "Low            object\n",
      "Adj. Close    float64\n",
      "Volume         object\n",
      "dtype: object\n"
     ]
    }
   ],
   "source": [
    "import pandas as pd\n",
    "import matplotlib.pyplot as plt\n",
    "import os\n",
    "\n",
    "amazon_df = pd.read_csv('solutions/downloaded/AMZN.csv')\n",
    "print(amazon_df.head())\n",
    "print(amazon_df.dtypes)"
   ]
  },
  {
   "cell_type": "markdown",
   "metadata": {},
   "source": [
    "..and pull in our function from the last notebook to force the columns to numeric, note it still prints the bad rows:"
   ]
  },
  {
   "cell_type": "code",
   "execution_count": 2,
   "metadata": {},
   "outputs": [
    {
     "name": "stdout",
     "output_type": "stream",
     "text": [
      "            Date      Date.1  \\\n",
      "611   1999-05-04  1999-05-04   \n",
      "1817  2011-07-19  2011-07-19   \n",
      "3519  2004-10-15  2004-10-15   \n",
      "4145  2002-04-23  2002-04-23   \n",
      "\n",
      "                                                   Open         High      Low  \\\n",
      "611   ERROR PROCESSING UNIT ERROR IN RECORDING ERROR...          NaN      NaN   \n",
      "1817                                            s213.77        218.4   213.77   \n",
      "3519                                    3929x39.6737.88  38.5snorkel  8205600   \n",
      "4145                                           14..`.35        14.75    13.88   \n",
      "\n",
      "      Adj. Close   Volume  \n",
      "611          NaN      NaN  \n",
      "1817      218.06  4438956  \n",
      "3519         NaN      NaN  \n",
      "4145       14.06  8141800  \n",
      "            Date      Date.1  Open         High      Low  Adj. Close Volume\n",
      "611   1999-05-04  1999-05-04   NaN          NaN      NaN         NaN    NaN\n",
      "3519  2004-10-15  2004-10-15   NaN  38.5snorkel  8205600         NaN    NaN\n",
      "           Date      Date.1   Open   High      Low  Adj. Close   Volume\n",
      "611  1999-05-04  1999-05-04    NaN    NaN      NaN         NaN      NaN\n",
      "703  2015-12-21  2015-12-21  668.5  669.9  octopus      664.51  3250900\n",
      "            Date      Date.1    Open    High         Low  Adj. Close  \\\n",
      "611   1999-05-04  1999-05-04     NaN     NaN         NaN         NaN   \n",
      "1820  2011-07-14  2011-07-14  213.58  215.91      209.38      210.38   \n",
      "3519  2004-10-15  2004-10-15     NaN     NaN  8205600.00         NaN   \n",
      "\n",
      "           Volume  \n",
      "611           NaN  \n",
      "1820  3904926\\\\'\\  \n",
      "3519          NaN  \n",
      "         Date      Date.1     Open     High      Low  Adj. Close     Volume\n",
      "0  2018-10-05  2018-10-05  1917.99  1929.08  1862.83     1889.65  6822327.0\n",
      "1  2018-10-04  2018-10-04  1949.00  1956.00  1896.57     1909.42  7256973.0\n",
      "2  2018-10-03  2018-10-03  1981.70  1989.70  1949.81     1952.76  5253131.0\n",
      "3  2018-10-02  2018-10-02  1999.99  2013.39  1965.77     1971.31  5400749.0\n",
      "4  2018-10-01  2018-10-01  2021.99  2033.19  2003.60     2004.36  3468285.0\n",
      "Date           object\n",
      "Date.1         object\n",
      "Open          float64\n",
      "High          float64\n",
      "Low           float64\n",
      "Adj. Close    float64\n",
      "Volume        float64\n",
      "dtype: object\n"
     ]
    }
   ],
   "source": [
    "def make_numeric( df, col_name ):\n",
    "    ''' takes a dataframe and a column name and makes the column numeric, setting bad values to NaN '''\n",
    "    series_as_numbers = pd.to_numeric( df[ col_name ], errors='coerce' )\n",
    "    bad_index = series_as_numbers.isna()\n",
    "    print( df[ bad_index ] )\n",
    "    df[ col_name ] = series_as_numbers\n",
    "    return df\n",
    "\n",
    "for bad_column in [ 'Open', 'High', 'Low', 'Volume' ]:\n",
    "    amazon_df = make_numeric( amazon_df, bad_column )\n",
    "    \n",
    "print( amazon_df.head() )\n",
    "print( amazon_df.dtypes )"
   ]
  },
  {
   "cell_type": "markdown",
   "metadata": {},
   "source": [
    "Now that we know our data is all float64s we can use the .describe() method on the DataFrame to get some interesting stats on each column. This is often a good starting point for looking for outliers or outrageous data points:"
   ]
  },
  {
   "cell_type": "code",
   "execution_count": 3,
   "metadata": {},
   "outputs": [
    {
     "name": "stdout",
     "output_type": "stream",
     "text": [
      "                Open           High           Low     Adj. Close        Volume\n",
      "count    4241.000000    4243.000000  4.243000e+03    4243.000000  4.242000e+03\n",
      "mean      321.602386     332.620771  2.226238e+03     321.513615  6.931896e+06\n",
      "std      1588.942852    2252.530697  1.259681e+05    1730.223077  2.936321e+07\n",
      "min         9.600000       9.850000  9.030000e+00       9.130000  0.000000e+00\n",
      "25%        43.200000      43.955000  4.260000e+01      43.315000  3.590560e+06\n",
      "50%       129.250000     130.960000  1.275500e+02     129.260000  5.387404e+06\n",
      "75%       337.000000     339.770000  3.330450e+02     335.420000  7.766975e+06\n",
      "max    100092.010000  144700.000000  8.205600e+06  110005.280000  1.888477e+09\n"
     ]
    }
   ],
   "source": [
    "print( amazon_df.describe() )"
   ]
  },
  {
   "cell_type": "markdown",
   "metadata": {},
   "source": [
    "Hmmm. Look at the 'Open' column now. 4241 entries, with a mean of 321.60 but the standard deviation is > 1000, and there's a maximum price of 100,092.01 (don't forget that extra cent!) Something is fishy. Let's plot AMZN's Open prices to get a visual aid."
   ]
  },
  {
   "cell_type": "code",
   "execution_count": 4,
   "metadata": {},
   "outputs": [
    {
     "data": {
      "image/png": "[encoded data removed]",
      "text/plain": [
       "<Figure size 432x288 with 1 Axes>"
      ]
     },
     "metadata": {},
     "output_type": "display_data"
    }
   ],
   "source": [
    "amazon_df.plot( kind = 'line', x='Date', y='Open', color = 'red' )\n",
    "plt.show()"
   ]
  },
  {
   "cell_type": "markdown",
   "metadata": {},
   "source": [
    "Ok, so we have two very obvious outliers, they are clearly skewing the entire plot. From a glance over to the Y-axis we can decide on 5000 as a reasonable number to filter on. Without descending into too deep an explanation of boolean selection on DataFrames, the following statement allows us to 'filter' a DataFrame by selecting rows that satisfy a given condition. In this instance we want all rows where 'Open' is > 5000."
   ]
  },
  {
   "cell_type": "code",
   "execution_count": 5,
   "metadata": {},
   "outputs": [
    {
     "data": {
      "text/html": [
       "<div>\n",
       "<style scoped>\n",
       "    .dataframe tbody tr th:only-of-type {\n",
       "        vertical-align: middle;\n",
       "    }\n",
       "\n",
       "    .dataframe tbody tr th {\n",
       "        vertical-align: top;\n",
       "    }\n",
       "\n",
       "    .dataframe thead th {\n",
       "        text-align: right;\n",
       "    }\n",
       "</style>\n",
       "<table border=\"1\" class=\"dataframe\">\n",
       "  <thead>\n",
       "    <tr style=\"text-align: right;\">\n",
       "      <th></th>\n",
       "      <th>Date</th>\n",
       "      <th>Date.1</th>\n",
       "      <th>Open</th>\n",
       "      <th>High</th>\n",
       "      <th>Low</th>\n",
       "      <th>Adj. Close</th>\n",
       "      <th>Volume</th>\n",
       "    </tr>\n",
       "  </thead>\n",
       "  <tbody>\n",
       "    <tr>\n",
       "      <th>962</th>\n",
       "      <td>2014-12-10</td>\n",
       "      <td>2014-12-10</td>\n",
       "      <td>9312.00</td>\n",
       "      <td>313.19</td>\n",
       "      <td>304.68</td>\n",
       "      <td>305.84</td>\n",
       "      <td>3245890.0</td>\n",
       "    </tr>\n",
       "    <tr>\n",
       "      <th>1645</th>\n",
       "      <td>2012-03-23</td>\n",
       "      <td>2012-03-23</td>\n",
       "      <td>100092.01</td>\n",
       "      <td>196.20</td>\n",
       "      <td>191.80</td>\n",
       "      <td>195.04</td>\n",
       "      <td>5984094.0</td>\n",
       "    </tr>\n",
       "  </tbody>\n",
       "</table>\n",
       "</div>"
      ],
      "text/plain": [
       "            Date      Date.1       Open    High     Low  Adj. Close     Volume\n",
       "962   2014-12-10  2014-12-10    9312.00  313.19  304.68      305.84  3245890.0\n",
       "1645  2012-03-23  2012-03-23  100092.01  196.20  191.80      195.04  5984094.0"
      ]
     },
     "execution_count": 5,
     "metadata": {},
     "output_type": "execute_result"
    }
   ],
   "source": [
    "amazon_df[amazon_df['Open'] > 5000]"
   ]
  },
  {
   "cell_type": "markdown",
   "metadata": {},
   "source": [
    "Just the two outliers. On their own, there's not enough context, so let's take the first row (962) and let's look at neighboring rows to see if we can figure out what's wrong. If you pass a slice index to a DataFrame, then just like a python list, you get back the 'slice' of rows you asked for:"
   ]
  },
  {
   "cell_type": "code",
   "execution_count": 6,
   "metadata": {},
   "outputs": [
    {
     "data": {
      "text/html": [
       "<div>\n",
       "<style scoped>\n",
       "    .dataframe tbody tr th:only-of-type {\n",
       "        vertical-align: middle;\n",
       "    }\n",
       "\n",
       "    .dataframe tbody tr th {\n",
       "        vertical-align: top;\n",
       "    }\n",
       "\n",
       "    .dataframe thead th {\n",
       "        text-align: right;\n",
       "    }\n",
       "</style>\n",
       "<table border=\"1\" class=\"dataframe\">\n",
       "  <thead>\n",
       "    <tr style=\"text-align: right;\">\n",
       "      <th></th>\n",
       "      <th>Date</th>\n",
       "      <th>Date.1</th>\n",
       "      <th>Open</th>\n",
       "      <th>High</th>\n",
       "      <th>Low</th>\n",
       "      <th>Adj. Close</th>\n",
       "      <th>Volume</th>\n",
       "    </tr>\n",
       "  </thead>\n",
       "  <tbody>\n",
       "    <tr>\n",
       "      <th>960</th>\n",
       "      <td>2014-12-12</td>\n",
       "      <td>2014-12-12</td>\n",
       "      <td>303.99</td>\n",
       "      <td>310.64</td>\n",
       "      <td>303.01</td>\n",
       "      <td>307.32</td>\n",
       "      <td>3162322.0</td>\n",
       "    </tr>\n",
       "    <tr>\n",
       "      <th>961</th>\n",
       "      <td>2014-12-11</td>\n",
       "      <td>2014-12-11</td>\n",
       "      <td>307.89</td>\n",
       "      <td>312.64</td>\n",
       "      <td>306.01</td>\n",
       "      <td>307.36</td>\n",
       "      <td>3272919.0</td>\n",
       "    </tr>\n",
       "    <tr>\n",
       "      <th>962</th>\n",
       "      <td>2014-12-10</td>\n",
       "      <td>2014-12-10</td>\n",
       "      <td>9312.00</td>\n",
       "      <td>313.19</td>\n",
       "      <td>304.68</td>\n",
       "      <td>305.84</td>\n",
       "      <td>3245890.0</td>\n",
       "    </tr>\n",
       "    <tr>\n",
       "      <th>963</th>\n",
       "      <td>2014-12-09</td>\n",
       "      <td>2014-12-09</td>\n",
       "      <td>302.99</td>\n",
       "      <td>313.64</td>\n",
       "      <td>301.14</td>\n",
       "      <td>312.50</td>\n",
       "      <td>4049506.0</td>\n",
       "    </tr>\n",
       "    <tr>\n",
       "      <th>964</th>\n",
       "      <td>2014-12-08</td>\n",
       "      <td>2014-12-08</td>\n",
       "      <td>311.57</td>\n",
       "      <td>316.56</td>\n",
       "      <td>304.82</td>\n",
       "      <td>306.64</td>\n",
       "      <td>3639180.0</td>\n",
       "    </tr>\n",
       "  </tbody>\n",
       "</table>\n",
       "</div>"
      ],
      "text/plain": [
       "           Date      Date.1     Open    High     Low  Adj. Close     Volume\n",
       "960  2014-12-12  2014-12-12   303.99  310.64  303.01      307.32  3162322.0\n",
       "961  2014-12-11  2014-12-11   307.89  312.64  306.01      307.36  3272919.0\n",
       "962  2014-12-10  2014-12-10  9312.00  313.19  304.68      305.84  3245890.0\n",
       "963  2014-12-09  2014-12-09   302.99  313.64  301.14      312.50  4049506.0\n",
       "964  2014-12-08  2014-12-08   311.57  316.56  304.82      306.64  3639180.0"
      ]
     },
     "execution_count": 6,
     "metadata": {},
     "output_type": "execute_result"
    }
   ],
   "source": [
    "amazon_df[960:965]"
   ]
  },
  {
   "cell_type": "markdown",
   "metadata": {},
   "source": [
    "So 9312 is clearly wrong, and should, looking at the neighboring figures, be 312. We can use the .at[ row, col ] call on the DataFrame to fix this value:"
   ]
  },
  {
   "cell_type": "code",
   "execution_count": 7,
   "metadata": {},
   "outputs": [
    {
     "data": {
      "text/html": [
       "<div>\n",
       "<style scoped>\n",
       "    .dataframe tbody tr th:only-of-type {\n",
       "        vertical-align: middle;\n",
       "    }\n",
       "\n",
       "    .dataframe tbody tr th {\n",
       "        vertical-align: top;\n",
       "    }\n",
       "\n",
       "    .dataframe thead th {\n",
       "        text-align: right;\n",
       "    }\n",
       "</style>\n",
       "<table border=\"1\" class=\"dataframe\">\n",
       "  <thead>\n",
       "    <tr style=\"text-align: right;\">\n",
       "      <th></th>\n",
       "      <th>Date</th>\n",
       "      <th>Date.1</th>\n",
       "      <th>Open</th>\n",
       "      <th>High</th>\n",
       "      <th>Low</th>\n",
       "      <th>Adj. Close</th>\n",
       "      <th>Volume</th>\n",
       "    </tr>\n",
       "  </thead>\n",
       "  <tbody>\n",
       "    <tr>\n",
       "      <th>960</th>\n",
       "      <td>2014-12-12</td>\n",
       "      <td>2014-12-12</td>\n",
       "      <td>303.99</td>\n",
       "      <td>310.64</td>\n",
       "      <td>303.01</td>\n",
       "      <td>307.32</td>\n",
       "      <td>3162322.0</td>\n",
       "    </tr>\n",
       "    <tr>\n",
       "      <th>961</th>\n",
       "      <td>2014-12-11</td>\n",
       "      <td>2014-12-11</td>\n",
       "      <td>307.89</td>\n",
       "      <td>312.64</td>\n",
       "      <td>306.01</td>\n",
       "      <td>307.36</td>\n",
       "      <td>3272919.0</td>\n",
       "    </tr>\n",
       "    <tr>\n",
       "      <th>962</th>\n",
       "      <td>2014-12-10</td>\n",
       "      <td>2014-12-10</td>\n",
       "      <td>312.00</td>\n",
       "      <td>313.19</td>\n",
       "      <td>304.68</td>\n",
       "      <td>305.84</td>\n",
       "      <td>3245890.0</td>\n",
       "    </tr>\n",
       "    <tr>\n",
       "      <th>963</th>\n",
       "      <td>2014-12-09</td>\n",
       "      <td>2014-12-09</td>\n",
       "      <td>302.99</td>\n",
       "      <td>313.64</td>\n",
       "      <td>301.14</td>\n",
       "      <td>312.50</td>\n",
       "      <td>4049506.0</td>\n",
       "    </tr>\n",
       "    <tr>\n",
       "      <th>964</th>\n",
       "      <td>2014-12-08</td>\n",
       "      <td>2014-12-08</td>\n",
       "      <td>311.57</td>\n",
       "      <td>316.56</td>\n",
       "      <td>304.82</td>\n",
       "      <td>306.64</td>\n",
       "      <td>3639180.0</td>\n",
       "    </tr>\n",
       "  </tbody>\n",
       "</table>\n",
       "</div>"
      ],
      "text/plain": [
       "           Date      Date.1    Open    High     Low  Adj. Close     Volume\n",
       "960  2014-12-12  2014-12-12  303.99  310.64  303.01      307.32  3162322.0\n",
       "961  2014-12-11  2014-12-11  307.89  312.64  306.01      307.36  3272919.0\n",
       "962  2014-12-10  2014-12-10  312.00  313.19  304.68      305.84  3245890.0\n",
       "963  2014-12-09  2014-12-09  302.99  313.64  301.14      312.50  4049506.0\n",
       "964  2014-12-08  2014-12-08  311.57  316.56  304.82      306.64  3639180.0"
      ]
     },
     "execution_count": 7,
     "metadata": {},
     "output_type": "execute_result"
    }
   ],
   "source": [
    "amazon_df.at[ 962, 'Open' ] = 312.0\n",
    "amazon_df[960:965]"
   ]
  },
  {
   "cell_type": "markdown",
   "metadata": {},
   "source": [
    "Way better! Now to look at the other rogue value, in context:"
   ]
  },
  {
   "cell_type": "code",
   "execution_count": 8,
   "metadata": {},
   "outputs": [
    {
     "data": {
      "text/html": [
       "<div>\n",
       "<style scoped>\n",
       "    .dataframe tbody tr th:only-of-type {\n",
       "        vertical-align: middle;\n",
       "    }\n",
       "\n",
       "    .dataframe tbody tr th {\n",
       "        vertical-align: top;\n",
       "    }\n",
       "\n",
       "    .dataframe thead th {\n",
       "        text-align: right;\n",
       "    }\n",
       "</style>\n",
       "<table border=\"1\" class=\"dataframe\">\n",
       "  <thead>\n",
       "    <tr style=\"text-align: right;\">\n",
       "      <th></th>\n",
       "      <th>Date</th>\n",
       "      <th>Date.1</th>\n",
       "      <th>Open</th>\n",
       "      <th>High</th>\n",
       "      <th>Low</th>\n",
       "      <th>Adj. Close</th>\n",
       "      <th>Volume</th>\n",
       "    </tr>\n",
       "  </thead>\n",
       "  <tbody>\n",
       "    <tr>\n",
       "      <th>1643</th>\n",
       "      <td>2012-03-27</td>\n",
       "      <td>2012-03-27</td>\n",
       "      <td>203.59</td>\n",
       "      <td>209.85</td>\n",
       "      <td>202.88</td>\n",
       "      <td>205.44</td>\n",
       "      <td>9600734.0</td>\n",
       "    </tr>\n",
       "    <tr>\n",
       "      <th>1644</th>\n",
       "      <td>2012-03-26</td>\n",
       "      <td>2012-03-26</td>\n",
       "      <td>196.48</td>\n",
       "      <td>202.97</td>\n",
       "      <td>195.50</td>\n",
       "      <td>202.87</td>\n",
       "      <td>7620695.0</td>\n",
       "    </tr>\n",
       "    <tr>\n",
       "      <th>1645</th>\n",
       "      <td>2012-03-23</td>\n",
       "      <td>2012-03-23</td>\n",
       "      <td>100092.01</td>\n",
       "      <td>196.20</td>\n",
       "      <td>191.80</td>\n",
       "      <td>195.04</td>\n",
       "      <td>5984094.0</td>\n",
       "    </tr>\n",
       "    <tr>\n",
       "      <th>1646</th>\n",
       "      <td>2012-03-22</td>\n",
       "      <td>2012-03-22</td>\n",
       "      <td>190.54</td>\n",
       "      <td>194.06</td>\n",
       "      <td>190.26</td>\n",
       "      <td>192.40</td>\n",
       "      <td>3740279.0</td>\n",
       "    </tr>\n",
       "    <tr>\n",
       "      <th>1647</th>\n",
       "      <td>2012-03-21</td>\n",
       "      <td>2012-03-21</td>\n",
       "      <td>192.50</td>\n",
       "      <td>194.28</td>\n",
       "      <td>191.26</td>\n",
       "      <td>191.73</td>\n",
       "      <td>4215499.0</td>\n",
       "    </tr>\n",
       "  </tbody>\n",
       "</table>\n",
       "</div>"
      ],
      "text/plain": [
       "            Date      Date.1       Open    High     Low  Adj. Close     Volume\n",
       "1643  2012-03-27  2012-03-27     203.59  209.85  202.88      205.44  9600734.0\n",
       "1644  2012-03-26  2012-03-26     196.48  202.97  195.50      202.87  7620695.0\n",
       "1645  2012-03-23  2012-03-23  100092.01  196.20  191.80      195.04  5984094.0\n",
       "1646  2012-03-22  2012-03-22     190.54  194.06  190.26      192.40  3740279.0\n",
       "1647  2012-03-21  2012-03-21     192.50  194.28  191.26      191.73  4215499.0"
      ]
     },
     "execution_count": 8,
     "metadata": {},
     "output_type": "execute_result"
    }
   ],
   "source": [
    "amazon_df[1643:1648]"
   ]
  },
  {
   "cell_type": "markdown",
   "metadata": {},
   "source": [
    "Those three 0s look like some line noise has corrupted that number, it should be 192.01"
   ]
  },
  {
   "cell_type": "code",
   "execution_count": 10,
   "metadata": {},
   "outputs": [],
   "source": [
    "amazon_df.at[ 1645, 'Open' ] = 192.01"
   ]
  },
  {
   "cell_type": "markdown",
   "metadata": {},
   "source": [
    "Now let's redo our plot and see what's what:"
   ]
  },
  {
   "cell_type": "code",
   "execution_count": 11,
   "metadata": {},
   "outputs": [
    {
     "data": {
      "text/plain": [
       "<Figure size 432x288 with 0 Axes>"
      ]
     },
     "metadata": {},
     "output_type": "display_data"
    },
    {
     "data": {
      "image/png": "[encoded data removed]",
      "text/plain": [
       "<Figure size 432x288 with 1 Axes>"
      ]
     },
     "metadata": {},
     "output_type": "display_data"
    }
   ],
   "source": [
    "plt.clf()\n",
    "amazon_df.plot( kind='line', x='Date', y='Open', color='red' )\n",
    "plt.show()"
   ]
  },
  {
   "cell_type": "markdown",
   "metadata": {},
   "source": [
    "Much cleaner - but our dates are still 'objects' i.e. Strings, and they run in reverse order. Let's turn them into proper datetime objects and then use sort_values() to fix this:"
   ]
  },
  {
   "cell_type": "code",
   "execution_count": 12,
   "metadata": {},
   "outputs": [],
   "source": [
    "from datetime import datetime\n",
    "amazon_df['Date'] = [ datetime.strptime( x, '%Y-%m-%d' ) for x in amazon_df['Date'] ]"
   ]
  },
  {
   "cell_type": "code",
   "execution_count": 13,
   "metadata": {},
   "outputs": [
    {
     "data": {
      "text/plain": [
       "<Figure size 432x288 with 0 Axes>"
      ]
     },
     "metadata": {},
     "output_type": "display_data"
    },
    {
     "data": {
      "image/png": "[encoded data removed]",
      "text/plain": [
       "<Figure size 432x288 with 1 Axes>"
      ]
     },
     "metadata": {},
     "output_type": "display_data"
    }
   ],
   "source": [
    "amazon_df.sort_values('Date', inplace=True)\n",
    "plt.clf()\n",
    "amazon_df.plot( kind='line', x='Date', y='Open', color='red' )\n",
    "plt.show()"
   ]
  },
  {
   "cell_type": "markdown",
   "metadata": {},
   "source": [
    "So now we have clean Open prices for Amazon, in proper date order, with no outliers. Let's use describe() again to check the other columns:"
   ]
  },
  {
   "cell_type": "code",
   "execution_count": 14,
   "metadata": {},
   "outputs": [
    {
     "data": {
      "text/html": [
       "<div>\n",
       "<style scoped>\n",
       "    .dataframe tbody tr th:only-of-type {\n",
       "        vertical-align: middle;\n",
       "    }\n",
       "\n",
       "    .dataframe tbody tr th {\n",
       "        vertical-align: top;\n",
       "    }\n",
       "\n",
       "    .dataframe thead th {\n",
       "        text-align: right;\n",
       "    }\n",
       "</style>\n",
       "<table border=\"1\" class=\"dataframe\">\n",
       "  <thead>\n",
       "    <tr style=\"text-align: right;\">\n",
       "      <th></th>\n",
       "      <th>Open</th>\n",
       "      <th>High</th>\n",
       "      <th>Low</th>\n",
       "      <th>Adj. Close</th>\n",
       "      <th>Volume</th>\n",
       "    </tr>\n",
       "  </thead>\n",
       "  <tbody>\n",
       "    <tr>\n",
       "      <th>count</th>\n",
       "      <td>4241.000000</td>\n",
       "      <td>4243.000000</td>\n",
       "      <td>4.243000e+03</td>\n",
       "      <td>4243.000000</td>\n",
       "      <td>4.242000e+03</td>\n",
       "    </tr>\n",
       "    <tr>\n",
       "      <th>mean</th>\n",
       "      <td>295.924480</td>\n",
       "      <td>332.620771</td>\n",
       "      <td>2.226238e+03</td>\n",
       "      <td>321.513615</td>\n",
       "      <td>6.931896e+06</td>\n",
       "    </tr>\n",
       "    <tr>\n",
       "      <th>std</th>\n",
       "      <td>396.670719</td>\n",
       "      <td>2252.530697</td>\n",
       "      <td>1.259681e+05</td>\n",
       "      <td>1730.223077</td>\n",
       "      <td>2.936321e+07</td>\n",
       "    </tr>\n",
       "    <tr>\n",
       "      <th>min</th>\n",
       "      <td>9.600000</td>\n",
       "      <td>9.850000</td>\n",
       "      <td>9.030000e+00</td>\n",
       "      <td>9.130000</td>\n",
       "      <td>0.000000e+00</td>\n",
       "    </tr>\n",
       "    <tr>\n",
       "      <th>25%</th>\n",
       "      <td>43.200000</td>\n",
       "      <td>43.955000</td>\n",
       "      <td>4.260000e+01</td>\n",
       "      <td>43.315000</td>\n",
       "      <td>3.590560e+06</td>\n",
       "    </tr>\n",
       "    <tr>\n",
       "      <th>50%</th>\n",
       "      <td>129.250000</td>\n",
       "      <td>130.960000</td>\n",
       "      <td>1.275500e+02</td>\n",
       "      <td>129.260000</td>\n",
       "      <td>5.387404e+06</td>\n",
       "    </tr>\n",
       "    <tr>\n",
       "      <th>75%</th>\n",
       "      <td>336.030000</td>\n",
       "      <td>339.770000</td>\n",
       "      <td>3.330450e+02</td>\n",
       "      <td>335.420000</td>\n",
       "      <td>7.766975e+06</td>\n",
       "    </tr>\n",
       "    <tr>\n",
       "      <th>max</th>\n",
       "      <td>2038.110000</td>\n",
       "      <td>144700.000000</td>\n",
       "      <td>8.205600e+06</td>\n",
       "      <td>110005.280000</td>\n",
       "      <td>1.888477e+09</td>\n",
       "    </tr>\n",
       "  </tbody>\n",
       "</table>\n",
       "</div>"
      ],
      "text/plain": [
       "              Open           High           Low     Adj. Close        Volume\n",
       "count  4241.000000    4243.000000  4.243000e+03    4243.000000  4.242000e+03\n",
       "mean    295.924480     332.620771  2.226238e+03     321.513615  6.931896e+06\n",
       "std     396.670719    2252.530697  1.259681e+05    1730.223077  2.936321e+07\n",
       "min       9.600000       9.850000  9.030000e+00       9.130000  0.000000e+00\n",
       "25%      43.200000      43.955000  4.260000e+01      43.315000  3.590560e+06\n",
       "50%     129.250000     130.960000  1.275500e+02     129.260000  5.387404e+06\n",
       "75%     336.030000     339.770000  3.330450e+02     335.420000  7.766975e+06\n",
       "max    2038.110000  144700.000000  8.205600e+06  110005.280000  1.888477e+09"
      ]
     },
     "execution_count": 14,
     "metadata": {},
     "output_type": "execute_result"
    }
   ],
   "source": [
    "amazon_df.describe()"
   ]
  },
  {
   "cell_type": "markdown",
   "metadata": {},
   "source": [
    "So now, High, Low, Adjusted Close all have some dodgy max values and large deviations, like before we want a more generic function. There are ways to add code to fix or drop these rows automatically but for the scope of this talk we'll just write a function to help us find them:"
   ]
  },
  {
   "cell_type": "code",
   "execution_count": 15,
   "metadata": {},
   "outputs": [
    {
     "data": {
      "text/html": [
       "<div>\n",
       "<style scoped>\n",
       "    .dataframe tbody tr th:only-of-type {\n",
       "        vertical-align: middle;\n",
       "    }\n",
       "\n",
       "    .dataframe tbody tr th {\n",
       "        vertical-align: top;\n",
       "    }\n",
       "\n",
       "    .dataframe thead th {\n",
       "        text-align: right;\n",
       "    }\n",
       "</style>\n",
       "<table border=\"1\" class=\"dataframe\">\n",
       "  <thead>\n",
       "    <tr style=\"text-align: right;\">\n",
       "      <th></th>\n",
       "      <th>Date</th>\n",
       "      <th>Date.1</th>\n",
       "      <th>Open</th>\n",
       "      <th>High</th>\n",
       "      <th>Low</th>\n",
       "      <th>Adj. Close</th>\n",
       "      <th>Volume</th>\n",
       "    </tr>\n",
       "  </thead>\n",
       "  <tbody>\n",
       "    <tr>\n",
       "      <th>121</th>\n",
       "      <td>2018-04-16</td>\n",
       "      <td>2018-04-16</td>\n",
       "      <td>1445.0</td>\n",
       "      <td>144700.0</td>\n",
       "      <td>1427.48</td>\n",
       "      <td>1441.5</td>\n",
       "      <td>2808624.0</td>\n",
       "    </tr>\n",
       "  </tbody>\n",
       "</table>\n",
       "</div>"
      ],
      "text/plain": [
       "          Date      Date.1    Open      High      Low  Adj. Close     Volume\n",
       "121 2018-04-16  2018-04-16  1445.0  144700.0  1427.48      1441.5  2808624.0"
      ]
     },
     "execution_count": 15,
     "metadata": {},
     "output_type": "execute_result"
    }
   ],
   "source": [
    "def find_bad_prices( df, column_name, cutoff ):\n",
    "    ''' takes a DataFrame, column_name and a cutoff and returns a DataFrame of bad values '''\n",
    "    return df[df[ column_name ] > cutoff ]\n",
    "\n",
    "find_bad_prices( amazon_df, 'High', 3000 )"
   ]
  },
  {
   "cell_type": "code",
   "execution_count": 16,
   "metadata": {},
   "outputs": [
    {
     "data": {
      "text/html": [
       "<div>\n",
       "<style scoped>\n",
       "    .dataframe tbody tr th:only-of-type {\n",
       "        vertical-align: middle;\n",
       "    }\n",
       "\n",
       "    .dataframe tbody tr th {\n",
       "        vertical-align: top;\n",
       "    }\n",
       "\n",
       "    .dataframe thead th {\n",
       "        text-align: right;\n",
       "    }\n",
       "</style>\n",
       "<table border=\"1\" class=\"dataframe\">\n",
       "  <thead>\n",
       "    <tr style=\"text-align: right;\">\n",
       "      <th></th>\n",
       "      <th>Date</th>\n",
       "      <th>Date.1</th>\n",
       "      <th>Open</th>\n",
       "      <th>High</th>\n",
       "      <th>Low</th>\n",
       "      <th>Adj. Close</th>\n",
       "      <th>Volume</th>\n",
       "    </tr>\n",
       "  </thead>\n",
       "  <tbody>\n",
       "    <tr>\n",
       "      <th>3519</th>\n",
       "      <td>2004-10-15</td>\n",
       "      <td>2004-10-15</td>\n",
       "      <td>NaN</td>\n",
       "      <td>NaN</td>\n",
       "      <td>8205600.0</td>\n",
       "      <td>NaN</td>\n",
       "      <td>NaN</td>\n",
       "    </tr>\n",
       "  </tbody>\n",
       "</table>\n",
       "</div>"
      ],
      "text/plain": [
       "           Date      Date.1  Open  High        Low  Adj. Close  Volume\n",
       "3519 2004-10-15  2004-10-15   NaN   NaN  8205600.0         NaN     NaN"
      ]
     },
     "execution_count": 16,
     "metadata": {},
     "output_type": "execute_result"
    }
   ],
   "source": [
    "amazon_df.at[ 121, 'High' ] = 1447.0\n",
    "find_bad_prices( amazon_df, 'Low', 3000 )"
   ]
  },
  {
   "cell_type": "code",
   "execution_count": 17,
   "metadata": {},
   "outputs": [
    {
     "data": {
      "text/html": [
       "<div>\n",
       "<style scoped>\n",
       "    .dataframe tbody tr th:only-of-type {\n",
       "        vertical-align: middle;\n",
       "    }\n",
       "\n",
       "    .dataframe tbody tr th {\n",
       "        vertical-align: top;\n",
       "    }\n",
       "\n",
       "    .dataframe thead th {\n",
       "        text-align: right;\n",
       "    }\n",
       "</style>\n",
       "<table border=\"1\" class=\"dataframe\">\n",
       "  <thead>\n",
       "    <tr style=\"text-align: right;\">\n",
       "      <th></th>\n",
       "      <th>Date</th>\n",
       "      <th>Date.1</th>\n",
       "      <th>Open</th>\n",
       "      <th>High</th>\n",
       "      <th>Low</th>\n",
       "      <th>Adj. Close</th>\n",
       "      <th>Volume</th>\n",
       "    </tr>\n",
       "  </thead>\n",
       "  <tbody>\n",
       "    <tr>\n",
       "      <th>234</th>\n",
       "      <td>2017-10-31</td>\n",
       "      <td>2017-10-31</td>\n",
       "      <td>1109.0</td>\n",
       "      <td>1110.54</td>\n",
       "      <td>1101.12</td>\n",
       "      <td>110005.28</td>\n",
       "      <td>3476967.0</td>\n",
       "    </tr>\n",
       "  </tbody>\n",
       "</table>\n",
       "</div>"
      ],
      "text/plain": [
       "          Date      Date.1    Open     High      Low  Adj. Close     Volume\n",
       "234 2017-10-31  2017-10-31  1109.0  1110.54  1101.12   110005.28  3476967.0"
      ]
     },
     "execution_count": 17,
     "metadata": {},
     "output_type": "execute_result"
    }
   ],
   "source": [
    "amazon_df.drop(3519, inplace=True)\n",
    "find_bad_prices( amazon_df, 'Adj. Close', 3000)"
   ]
  },
  {
   "cell_type": "code",
   "execution_count": 18,
   "metadata": {},
   "outputs": [
    {
     "data": {
      "text/html": [
       "<div>\n",
       "<style scoped>\n",
       "    .dataframe tbody tr th:only-of-type {\n",
       "        vertical-align: middle;\n",
       "    }\n",
       "\n",
       "    .dataframe tbody tr th {\n",
       "        vertical-align: top;\n",
       "    }\n",
       "\n",
       "    .dataframe thead th {\n",
       "        text-align: right;\n",
       "    }\n",
       "</style>\n",
       "<table border=\"1\" class=\"dataframe\">\n",
       "  <thead>\n",
       "    <tr style=\"text-align: right;\">\n",
       "      <th></th>\n",
       "      <th>Open</th>\n",
       "      <th>High</th>\n",
       "      <th>Low</th>\n",
       "      <th>Adj. Close</th>\n",
       "      <th>Volume</th>\n",
       "    </tr>\n",
       "  </thead>\n",
       "  <tbody>\n",
       "    <tr>\n",
       "      <th>count</th>\n",
       "      <td>4241.000000</td>\n",
       "      <td>4243.000000</td>\n",
       "      <td>4242.000000</td>\n",
       "      <td>4243.000000</td>\n",
       "      <td>4.242000e+03</td>\n",
       "    </tr>\n",
       "    <tr>\n",
       "      <th>mean</th>\n",
       "      <td>295.924480</td>\n",
       "      <td>298.858574</td>\n",
       "      <td>292.392308</td>\n",
       "      <td>295.847813</td>\n",
       "      <td>6.931896e+06</td>\n",
       "    </tr>\n",
       "    <tr>\n",
       "      <th>std</th>\n",
       "      <td>396.670719</td>\n",
       "      <td>399.765894</td>\n",
       "      <td>392.575583</td>\n",
       "      <td>396.366945</td>\n",
       "      <td>2.936321e+07</td>\n",
       "    </tr>\n",
       "    <tr>\n",
       "      <th>min</th>\n",
       "      <td>9.600000</td>\n",
       "      <td>9.850000</td>\n",
       "      <td>9.030000</td>\n",
       "      <td>9.130000</td>\n",
       "      <td>0.000000e+00</td>\n",
       "    </tr>\n",
       "    <tr>\n",
       "      <th>25%</th>\n",
       "      <td>43.200000</td>\n",
       "      <td>43.955000</td>\n",
       "      <td>42.595000</td>\n",
       "      <td>43.315000</td>\n",
       "      <td>3.590560e+06</td>\n",
       "    </tr>\n",
       "    <tr>\n",
       "      <th>50%</th>\n",
       "      <td>129.250000</td>\n",
       "      <td>130.960000</td>\n",
       "      <td>127.480000</td>\n",
       "      <td>129.260000</td>\n",
       "      <td>5.387404e+06</td>\n",
       "    </tr>\n",
       "    <tr>\n",
       "      <th>75%</th>\n",
       "      <td>336.030000</td>\n",
       "      <td>339.770000</td>\n",
       "      <td>332.935000</td>\n",
       "      <td>335.420000</td>\n",
       "      <td>7.766975e+06</td>\n",
       "    </tr>\n",
       "    <tr>\n",
       "      <th>max</th>\n",
       "      <td>2038.110000</td>\n",
       "      <td>2050.500000</td>\n",
       "      <td>2013.000000</td>\n",
       "      <td>2039.510000</td>\n",
       "      <td>1.888477e+09</td>\n",
       "    </tr>\n",
       "  </tbody>\n",
       "</table>\n",
       "</div>"
      ],
      "text/plain": [
       "              Open         High          Low   Adj. Close        Volume\n",
       "count  4241.000000  4243.000000  4242.000000  4243.000000  4.242000e+03\n",
       "mean    295.924480   298.858574   292.392308   295.847813  6.931896e+06\n",
       "std     396.670719   399.765894   392.575583   396.366945  2.936321e+07\n",
       "min       9.600000     9.850000     9.030000     9.130000  0.000000e+00\n",
       "25%      43.200000    43.955000    42.595000    43.315000  3.590560e+06\n",
       "50%     129.250000   130.960000   127.480000   129.260000  5.387404e+06\n",
       "75%     336.030000   339.770000   332.935000   335.420000  7.766975e+06\n",
       "max    2038.110000  2050.500000  2013.000000  2039.510000  1.888477e+09"
      ]
     },
     "execution_count": 18,
     "metadata": {},
     "output_type": "execute_result"
    }
   ],
   "source": [
    "amazon_df.at[ 234, 'Adj. Close' ] = 1105.28\n",
    "amazon_df.describe()"
   ]
  },
  {
   "cell_type": "code",
   "execution_count": 20,
   "metadata": {},
   "outputs": [
    {
     "data": {
      "image/png": "[encoded data removed]",
      "text/plain": [
       "<Figure size 1080x720 with 1 Axes>"
      ]
     },
     "metadata": {},
     "output_type": "display_data"
    }
   ],
   "source": [
    "plt.clf()\n",
    "plt.rcParams['figure.figsize'] = [15, 10]\n",
    "ax = plt.gca()\n",
    "amazon_df.plot( kind='line', x = 'Date', y = 'High', color='green', ax = ax )\n",
    "amazon_df.plot( kind='line', x = 'Date', y = 'Low',  color='red',   ax = ax )\n",
    "plt.show()"
   ]
  },
  {
   "cell_type": "code",
   "execution_count": null,
   "metadata": {},
   "outputs": [],
   "source": []
  },
  {
   "cell_type": "code",
   "execution_count": null,
   "metadata": {},
   "outputs": [],
   "source": []
  }
 ],
 "metadata": {
  "kernelspec": {
   "display_name": "Python 3",
   "language": "python",
   "name": "python3"
  },
  "language_info": {
   "codemirror_mode": {
    "name": "ipython",
    "version": 3
   },
   "file_extension": ".py",
   "mimetype": "text/x-python",
   "name": "python",
   "nbconvert_exporter": "python",
   "pygments_lexer": "ipython3",
   "version": "3.6.5"
  }
 },
 "nbformat": 4,
 "nbformat_minor": 2
}
