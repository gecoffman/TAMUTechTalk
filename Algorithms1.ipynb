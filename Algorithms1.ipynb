{
 "cells": [
  {
   "cell_type": "markdown",
   "metadata": {},
   "source": [
    "\n",
    "\n",
    "    Examples of strategies and their pitfalls\n",
    "\n",
    "    Mean reversion strategy\n",
    "\n",
    "    Machine learning approach\n",
    "\n",
    "    Comparing different strategies using historic data\n",
    "\n",
    "    Limitations\n"
   ]
  },
  {
   "cell_type": "code",
   "execution_count": 1,
   "metadata": {},
   "outputs": [],
   "source": [
    "import pandas as pd\n",
    "import os\n",
    "\n",
    "equities_path = 'equities/data/clean/'\n",
    "equities_data = { }\n",
    "for csv_file in os.listdir( equities_path ):\n",
    "    symbol = csv_file.split('.')[0]\n",
    "    equities_data[ symbol ] = pd.read_csv( equities_path + csv_file )"
   ]
  },
  {
   "cell_type": "markdown",
   "metadata": {},
   "source": [
    "Let's check we got some data back by showing the keys of the equities_data dictionary"
   ]
  },
  {
   "cell_type": "code",
   "execution_count": 2,
   "metadata": {},
   "outputs": [
    {
     "data": {
      "text/plain": [
       "dict_keys(['GOOG', 'SHLD', 'AMZN', 'TSLA', 'AAPL'])"
      ]
     },
     "execution_count": 2,
     "metadata": {},
     "output_type": "execute_result"
    }
   ],
   "source": [
    "equities_data.keys()"
   ]
  },
  {
   "cell_type": "markdown",
   "metadata": {},
   "source": [
    "And now check the head and dtypes of one of the Data Frames:"
   ]
  },
  {
   "cell_type": "code",
   "execution_count": 3,
   "metadata": {},
   "outputs": [
    {
     "data": {
      "text/html": [
       "<div>\n",
       "<style scoped>\n",
       "    .dataframe tbody tr th:only-of-type {\n",
       "        vertical-align: middle;\n",
       "    }\n",
       "\n",
       "    .dataframe tbody tr th {\n",
       "        vertical-align: top;\n",
       "    }\n",
       "\n",
       "    .dataframe thead th {\n",
       "        text-align: right;\n",
       "    }\n",
       "</style>\n",
       "<table border=\"1\" class=\"dataframe\">\n",
       "  <thead>\n",
       "    <tr style=\"text-align: right;\">\n",
       "      <th></th>\n",
       "      <th>Date</th>\n",
       "      <th>Open</th>\n",
       "      <th>High</th>\n",
       "      <th>Low</th>\n",
       "      <th>Adj. Close</th>\n",
       "      <th>Volume</th>\n",
       "    </tr>\n",
       "  </thead>\n",
       "  <tbody>\n",
       "    <tr>\n",
       "      <th>0</th>\n",
       "      <td>10/05/18</td>\n",
       "      <td>227.96</td>\n",
       "      <td>228.41</td>\n",
       "      <td>220.58</td>\n",
       "      <td>224.29</td>\n",
       "      <td>33580463.0</td>\n",
       "    </tr>\n",
       "    <tr>\n",
       "      <th>1</th>\n",
       "      <td>10/04/18</td>\n",
       "      <td>230.78</td>\n",
       "      <td>232.35</td>\n",
       "      <td>226.73</td>\n",
       "      <td>227.99</td>\n",
       "      <td>32042000.0</td>\n",
       "    </tr>\n",
       "    <tr>\n",
       "      <th>2</th>\n",
       "      <td>10/03/18</td>\n",
       "      <td>230.05</td>\n",
       "      <td>233.47</td>\n",
       "      <td>229.78</td>\n",
       "      <td>232.07</td>\n",
       "      <td>28654799.0</td>\n",
       "    </tr>\n",
       "    <tr>\n",
       "      <th>3</th>\n",
       "      <td>10/02/18</td>\n",
       "      <td>227.25</td>\n",
       "      <td>230.00</td>\n",
       "      <td>226.63</td>\n",
       "      <td>229.28</td>\n",
       "      <td>24788170.0</td>\n",
       "    </tr>\n",
       "    <tr>\n",
       "      <th>4</th>\n",
       "      <td>10/01/18</td>\n",
       "      <td>227.95</td>\n",
       "      <td>229.42</td>\n",
       "      <td>226.35</td>\n",
       "      <td>227.26</td>\n",
       "      <td>23600802.0</td>\n",
       "    </tr>\n",
       "  </tbody>\n",
       "</table>\n",
       "</div>"
      ],
      "text/plain": [
       "       Date    Open    High     Low  Adj. Close      Volume\n",
       "0  10/05/18  227.96  228.41  220.58      224.29  33580463.0\n",
       "1  10/04/18  230.78  232.35  226.73      227.99  32042000.0\n",
       "2  10/03/18  230.05  233.47  229.78      232.07  28654799.0\n",
       "3  10/02/18  227.25  230.00  226.63      229.28  24788170.0\n",
       "4  10/01/18  227.95  229.42  226.35      227.26  23600802.0"
      ]
     },
     "execution_count": 3,
     "metadata": {},
     "output_type": "execute_result"
    }
   ],
   "source": [
    "equities_data[ 'AAPL' ].head()"
   ]
  },
  {
   "cell_type": "code",
   "execution_count": 4,
   "metadata": {},
   "outputs": [
    {
     "data": {
      "text/plain": [
       "Date           object\n",
       "Open           object\n",
       "High          float64\n",
       "Low           float64\n",
       "Adj. Close    float64\n",
       "Volume        float64\n",
       "dtype: object"
      ]
     },
     "execution_count": 4,
     "metadata": {},
     "output_type": "execute_result"
    }
   ],
   "source": [
    "equities_data[ 'AAPL' ].dtypes"
   ]
  },
  {
   "cell_type": "markdown",
   "metadata": {},
   "source": [
    "Let's fix the Date column to be a python datetime, and re-sort the dataframe so it's oldest to newest data"
   ]
  },
  {
   "cell_type": "code",
   "execution_count": 5,
   "metadata": {},
   "outputs": [
    {
     "data": {
      "text/html": [
       "<div>\n",
       "<style scoped>\n",
       "    .dataframe tbody tr th:only-of-type {\n",
       "        vertical-align: middle;\n",
       "    }\n",
       "\n",
       "    .dataframe tbody tr th {\n",
       "        vertical-align: top;\n",
       "    }\n",
       "\n",
       "    .dataframe thead th {\n",
       "        text-align: right;\n",
       "    }\n",
       "</style>\n",
       "<table border=\"1\" class=\"dataframe\">\n",
       "  <thead>\n",
       "    <tr style=\"text-align: right;\">\n",
       "      <th></th>\n",
       "      <th>Date</th>\n",
       "      <th>Open</th>\n",
       "      <th>High</th>\n",
       "      <th>Low</th>\n",
       "      <th>Adj. Close</th>\n",
       "      <th>Volume</th>\n",
       "    </tr>\n",
       "  </thead>\n",
       "  <tbody>\n",
       "    <tr>\n",
       "      <th>4271</th>\n",
       "      <td>2001-11-28</td>\n",
       "      <td>1.32</td>\n",
       "      <td>1.34</td>\n",
       "      <td>1.29</td>\n",
       "      <td>1.30</td>\n",
       "      <td>62756400.0</td>\n",
       "    </tr>\n",
       "    <tr>\n",
       "      <th>4270</th>\n",
       "      <td>2001-11-29</td>\n",
       "      <td>1.3</td>\n",
       "      <td>1.31</td>\n",
       "      <td>1.28</td>\n",
       "      <td>1.29</td>\n",
       "      <td>50691200.0</td>\n",
       "    </tr>\n",
       "    <tr>\n",
       "      <th>4269</th>\n",
       "      <td>2001-11-30</td>\n",
       "      <td>1.3</td>\n",
       "      <td>1.36</td>\n",
       "      <td>1.28</td>\n",
       "      <td>1.35</td>\n",
       "      <td>75978000.0</td>\n",
       "    </tr>\n",
       "    <tr>\n",
       "      <th>4268</th>\n",
       "      <td>2001-12-03</td>\n",
       "      <td>1.33</td>\n",
       "      <td>1.35</td>\n",
       "      <td>1.30</td>\n",
       "      <td>1.33</td>\n",
       "      <td>45329200.0</td>\n",
       "    </tr>\n",
       "    <tr>\n",
       "      <th>4267</th>\n",
       "      <td>2001-12-04</td>\n",
       "      <td>1.33</td>\n",
       "      <td>1.43</td>\n",
       "      <td>1.31</td>\n",
       "      <td>1.42</td>\n",
       "      <td>95118800.0</td>\n",
       "    </tr>\n",
       "  </tbody>\n",
       "</table>\n",
       "</div>"
      ],
      "text/plain": [
       "           Date  Open  High   Low  Adj. Close      Volume\n",
       "4271 2001-11-28  1.32  1.34  1.29        1.30  62756400.0\n",
       "4270 2001-11-29   1.3  1.31  1.28        1.29  50691200.0\n",
       "4269 2001-11-30   1.3  1.36  1.28        1.35  75978000.0\n",
       "4268 2001-12-03  1.33  1.35  1.30        1.33  45329200.0\n",
       "4267 2001-12-04  1.33  1.43  1.31        1.42  95118800.0"
      ]
     },
     "execution_count": 5,
     "metadata": {},
     "output_type": "execute_result"
    }
   ],
   "source": [
    "from datetime import datetime\n",
    "\n",
    "for symbol in equities_data:\n",
    "    equities_data[ symbol ][ 'Date' ] = [ datetime.strptime( x, '%m/%d/%y' ) for x in equities_data[symbol]['Date'] ]\n",
    "    equities_data[ symbol ].sort_values('Date', inplace=True)\n",
    "    \n",
    "equities_data['AAPL'].head()"
   ]
  },
  {
   "cell_type": "markdown",
   "metadata": {},
   "source": [
    "Let's plot Apple Inc, to see what we have"
   ]
  },
  {
   "cell_type": "code",
   "execution_count": 7,
   "metadata": {},
   "outputs": [
    {
     "data": {
      "image/png": "[encoded data removed]",
      "text/plain": [
       "<Figure size 432x288 with 1 Axes>"
      ]
     },
     "metadata": {},
     "output_type": "display_data"
    }
   ],
   "source": [
    "import matplotlib.pyplot as plt\n",
    "equities_data['AAPL'].plot( kind='line', x = 'Date', y = 'High', color='green')\n",
    "plt.show()"
   ]
  },
  {
   "cell_type": "markdown",
   "metadata": {},
   "source": [
    "<b><u>What is 'Mean Reversion'?</u></b>\n",
    "\n",
    "Mean reversion is financial theory suggesting that asset prices and returns eventually return back to the long-run mean or average of the entire dataset.\n",
    "\n",
    "We will use both a 50-day and 200-day rolling average, which means we need to add those columns to our data. Handily - we don't need to learn any statistical math for this, Pandas comes with a mean() function and a rolling() method we can apply to any numerical Data Series:"
   ]
  },
  {
   "cell_type": "code",
   "execution_count": 11,
   "metadata": {},
   "outputs": [
    {
     "data": {
      "text/html": [
       "<div>\n",
       "<style scoped>\n",
       "    .dataframe tbody tr th:only-of-type {\n",
       "        vertical-align: middle;\n",
       "    }\n",
       "\n",
       "    .dataframe tbody tr th {\n",
       "        vertical-align: top;\n",
       "    }\n",
       "\n",
       "    .dataframe thead th {\n",
       "        text-align: right;\n",
       "    }\n",
       "</style>\n",
       "<table border=\"1\" class=\"dataframe\">\n",
       "  <thead>\n",
       "    <tr style=\"text-align: right;\">\n",
       "      <th></th>\n",
       "      <th>Date</th>\n",
       "      <th>Open</th>\n",
       "      <th>High</th>\n",
       "      <th>Low</th>\n",
       "      <th>Adj. Close</th>\n",
       "      <th>Volume</th>\n",
       "      <th>50_day_average</th>\n",
       "    </tr>\n",
       "  </thead>\n",
       "  <tbody>\n",
       "    <tr>\n",
       "      <th>4224</th>\n",
       "      <td>2002-02-06</td>\n",
       "      <td>1.62</td>\n",
       "      <td>1.64</td>\n",
       "      <td>1.53</td>\n",
       "      <td>1.56</td>\n",
       "      <td>149409400.0</td>\n",
       "      <td>NaN</td>\n",
       "    </tr>\n",
       "    <tr>\n",
       "      <th>4223</th>\n",
       "      <td>2002-02-07</td>\n",
       "      <td>1.56</td>\n",
       "      <td>1.60</td>\n",
       "      <td>1.52</td>\n",
       "      <td>1.54</td>\n",
       "      <td>86961000.0</td>\n",
       "      <td>NaN</td>\n",
       "    </tr>\n",
       "    <tr>\n",
       "      <th>4222</th>\n",
       "      <td>2002-02-08</td>\n",
       "      <td>1.55</td>\n",
       "      <td>1.56</td>\n",
       "      <td>1.48</td>\n",
       "      <td>1.52</td>\n",
       "      <td>88832800.0</td>\n",
       "      <td>1.4452</td>\n",
       "    </tr>\n",
       "    <tr>\n",
       "      <th>4221</th>\n",
       "      <td>2002-02-11</td>\n",
       "      <td>1.51</td>\n",
       "      <td>1.58</td>\n",
       "      <td>1.50</td>\n",
       "      <td>1.58</td>\n",
       "      <td>99653400.0</td>\n",
       "      <td>1.4500</td>\n",
       "    </tr>\n",
       "    <tr>\n",
       "      <th>4220</th>\n",
       "      <td>2002-02-12</td>\n",
       "      <td>1.56</td>\n",
       "      <td>1.59</td>\n",
       "      <td>1.55</td>\n",
       "      <td>1.56</td>\n",
       "      <td>56084000.0</td>\n",
       "      <td>1.4556</td>\n",
       "    </tr>\n",
       "    <tr>\n",
       "      <th>4219</th>\n",
       "      <td>2002-02-13</td>\n",
       "      <td>1.57</td>\n",
       "      <td>1.60</td>\n",
       "      <td>1.56</td>\n",
       "      <td>1.58</td>\n",
       "      <td>78248800.0</td>\n",
       "      <td>1.4604</td>\n",
       "    </tr>\n",
       "    <tr>\n",
       "      <th>4218</th>\n",
       "      <td>2002-02-14</td>\n",
       "      <td>1.59</td>\n",
       "      <td>1.60</td>\n",
       "      <td>1.54</td>\n",
       "      <td>1.56</td>\n",
       "      <td>65042600.0</td>\n",
       "      <td>1.4654</td>\n",
       "    </tr>\n",
       "    <tr>\n",
       "      <th>4217</th>\n",
       "      <td>2002-02-15</td>\n",
       "      <td>1.55</td>\n",
       "      <td>1.58</td>\n",
       "      <td>1.51</td>\n",
       "      <td>1.51</td>\n",
       "      <td>65049600.0</td>\n",
       "      <td>1.4684</td>\n",
       "    </tr>\n",
       "    <tr>\n",
       "      <th>4216</th>\n",
       "      <td>2002-02-19</td>\n",
       "      <td>1.5</td>\n",
       "      <td>1.51</td>\n",
       "      <td>1.42</td>\n",
       "      <td>1.43</td>\n",
       "      <td>97561800.0</td>\n",
       "      <td>1.4682</td>\n",
       "    </tr>\n",
       "    <tr>\n",
       "      <th>4215</th>\n",
       "      <td>2002-02-20</td>\n",
       "      <td>1.44</td>\n",
       "      <td>1.47</td>\n",
       "      <td>1.41</td>\n",
       "      <td>1.46</td>\n",
       "      <td>71360800.0</td>\n",
       "      <td>1.4678</td>\n",
       "    </tr>\n",
       "    <tr>\n",
       "      <th>4214</th>\n",
       "      <td>2002-02-21</td>\n",
       "      <td>1.45</td>\n",
       "      <td>1.46</td>\n",
       "      <td>1.36</td>\n",
       "      <td>1.36</td>\n",
       "      <td>111713000.0</td>\n",
       "      <td>1.4682</td>\n",
       "    </tr>\n",
       "    <tr>\n",
       "      <th>4213</th>\n",
       "      <td>2002-02-22</td>\n",
       "      <td>1.37</td>\n",
       "      <td>1.45</td>\n",
       "      <td>1.36</td>\n",
       "      <td>1.44</td>\n",
       "      <td>101619000.0</td>\n",
       "      <td>1.4680</td>\n",
       "    </tr>\n",
       "    <tr>\n",
       "      <th>4212</th>\n",
       "      <td>2002-02-25</td>\n",
       "      <td>1.45</td>\n",
       "      <td>1.56</td>\n",
       "      <td>1.42</td>\n",
       "      <td>1.51</td>\n",
       "      <td>106712200.0</td>\n",
       "      <td>1.4702</td>\n",
       "    </tr>\n",
       "  </tbody>\n",
       "</table>\n",
       "</div>"
      ],
      "text/plain": [
       "           Date  Open  High   Low  Adj. Close       Volume  50_day_average\n",
       "4224 2002-02-06  1.62  1.64  1.53        1.56  149409400.0             NaN\n",
       "4223 2002-02-07  1.56  1.60  1.52        1.54   86961000.0             NaN\n",
       "4222 2002-02-08  1.55  1.56  1.48        1.52   88832800.0          1.4452\n",
       "4221 2002-02-11  1.51  1.58  1.50        1.58   99653400.0          1.4500\n",
       "4220 2002-02-12  1.56  1.59  1.55        1.56   56084000.0          1.4556\n",
       "4219 2002-02-13  1.57  1.60  1.56        1.58   78248800.0          1.4604\n",
       "4218 2002-02-14  1.59  1.60  1.54        1.56   65042600.0          1.4654\n",
       "4217 2002-02-15  1.55  1.58  1.51        1.51   65049600.0          1.4684\n",
       "4216 2002-02-19   1.5  1.51  1.42        1.43   97561800.0          1.4682\n",
       "4215 2002-02-20  1.44  1.47  1.41        1.46   71360800.0          1.4678\n",
       "4214 2002-02-21  1.45  1.46  1.36        1.36  111713000.0          1.4682\n",
       "4213 2002-02-22  1.37  1.45  1.36        1.44  101619000.0          1.4680\n",
       "4212 2002-02-25  1.45  1.56  1.42        1.51  106712200.0          1.4702"
      ]
     },
     "execution_count": 11,
     "metadata": {},
     "output_type": "execute_result"
    }
   ],
   "source": [
    "equities_data[ 'AAPL' ][ '50_day_average' ] = equities_data[ 'AAPL' ].High.rolling(window=50, axis='rows').mean()\n",
    "equities_data[ 'AAPL' ][47:60]"
   ]
  },
  {
   "cell_type": "markdown",
   "metadata": {},
   "source": [
    "Let's add the 200 day mean too, and plot them from 2004 to end of 2012:"
   ]
  },
  {
   "cell_type": "code",
   "execution_count": 17,
   "metadata": {},
   "outputs": [
    {
     "data": {
      "image/png": "[encoded data removed]",
      "text/plain": [
       "<Figure size 432x288 with 1 Axes>"
      ]
     },
     "metadata": {},
     "output_type": "display_data"
    }
   ],
   "source": [
    "equities_data[ 'AAPL' ][ '200_day_average' ] = equities_data[ 'AAPL' ].High.rolling(window=200, axis='rows').mean()\n",
    "ax = plt.gca() # Get current axis\n",
    "equities_data['AAPL'].plot( kind='line', x = 'Date', y = 'High',            color = 'green',  ax = ax )\n",
    "equities_data['AAPL'].plot( kind='line', x = 'Date', y = '50_day_average',  color = 'blue',   ax = ax )\n",
    "equities_data['AAPL'].plot( kind='line', x = 'Date', y = '200_day_average', color = 'orange', ax = ax )\n",
    "ax.set_xlim(pd.Timestamp('2004-01-01'), pd.Timestamp('2012-12-31'))\n",
    "ax.set_ylim(0,100)\n",
    "plt.show()"
   ]
  },
  {
   "cell_type": "markdown",
   "metadata": {},
   "source": [
    "So what does this actually tell us? Well, in the simplest terms, it means we can suggest that when our rolling average is above our price line, we should be buying stock in Apple, and when it's below we should be short-selling. Let's zoom in on 2007-2008 (launch of the iPhone) as a good example of how this works:"
   ]
  },
  {
   "cell_type": "code",
   "execution_count": 22,
   "metadata": {},
   "outputs": [
    {
     "data": {
      "image/png": "[encoded data removed]",
      "text/plain": [
       "<Figure size 432x288 with 1 Axes>"
      ]
     },
     "metadata": {},
     "output_type": "display_data"
    }
   ],
   "source": [
    "ax=plt.gca()\n",
    "equities_data['AAPL'].plot( kind='line', x = 'Date', y = 'High',            color = 'green',  ax = ax )\n",
    "equities_data['AAPL'].plot( kind='line', x = 'Date', y = '50_day_average',  color = 'blue',   ax = ax )\n",
    "equities_data['AAPL'].plot( kind='line', x = 'Date', y = '200_day_average', color = 'orange', ax = ax )\n",
    "ax.set_xlim(pd.Timestamp('2007-01-01'), pd.Timestamp('2008-06-30'))\n",
    "ax.set_ylim(5,35)\n",
    "plt.show()"
   ]
  },
  {
   "cell_type": "markdown",
   "metadata": {},
   "source": [
    "In the example - the 200 day moving average is telling us all the way through 2007 that we should be betting against Apple - taking a short position and holding it, despite the company looking very sucessful. However in Q1 2008 stock tumbles and crosses its line. At which point we'd exit that short position and seeing as it falls below, we would switch to buying Apple as a good bet to recover. Lo and behold halfway through Q2 it crosses in the other direction, at which point we should again flatten our position, expecting it to 'revert to mean'."
   ]
  },
  {
   "cell_type": "code",
   "execution_count": null,
   "metadata": {},
   "outputs": [],
   "source": []
  }
 ],
 "metadata": {
  "kernelspec": {
   "display_name": "Python 3",
   "language": "python",
   "name": "python3"
  },
  "language_info": {
   "codemirror_mode": {
    "name": "ipython",
    "version": 3
   },
   "file_extension": ".py",
   "mimetype": "text/x-python",
   "name": "python",
   "nbconvert_exporter": "python",
   "pygments_lexer": "ipython3",
   "version": "3.6.6"
  }
 },
 "nbformat": 4,
 "nbformat_minor": 2
}
